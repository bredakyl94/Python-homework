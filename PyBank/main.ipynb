{
 "cells": [
  {
   "cell_type": "code",
   "execution_count": 126,
   "metadata": {},
   "outputs": [],
   "source": [
    "from pathlib import Path\n",
    "import csv"
   ]
  },
  {
   "cell_type": "code",
   "execution_count": 127,
   "metadata": {},
   "outputs": [],
   "source": [
    "csvpath = Path('../PyBank/budget_data.csv')"
   ]
  },
  {
   "cell_type": "code",
   "execution_count": 128,
   "metadata": {},
   "outputs": [],
   "source": [
    "total_profit_loss = 0\n",
    "date = []\n",
    "net_total= []\n",
    "changes = []\n",
    "average_change = 0\n",
    "number_of_lines = 0\n",
    "greatest_increase = 0\n",
    "greatest_decrease = 0\n",
    "index_greatest_increase_month = 0\n",
    "index_greatest_decrease_month = 0\n",
    "greatest_increase_month = 0\n",
    "greatest_decrease_month = 0\n",
    "fin_an = 0"
   ]
  },
  {
   "cell_type": "code",
   "execution_count": 129,
   "metadata": {},
   "outputs": [],
   "source": [
    "with open(csvpath, 'r') as csvfile:\n",
    "    csvreader = csv.reader(csvfile, delimiter=',')\n",
    "    csv_header = next(csvreader)\n",
    "    \n",
    "    for row in csvreader:\n",
    "        number_of_lines += 1\n",
    "        total_profit_loss += int(row[1])\n",
    "        net_total.append(int(row[1]))\n",
    "        date.append(row[0])\n",
    "\n",
    "    "
   ]
  },
  {
   "cell_type": "code",
   "execution_count": 130,
   "metadata": {},
   "outputs": [],
   "source": [
    "         for i in range (1, len(net_total)):\n",
    "            x = net_total[i] - net_total[i-1]\n",
    "            changes.append(int(x))"
   ]
  },
  {
   "cell_type": "code",
   "execution_count": 131,
   "metadata": {},
   "outputs": [],
   "source": [
    "            for i in range(0, len(changes)):\n",
    "    average_change = round((sum(changes)/ (len(changes))), 2)"
   ]
  },
  {
   "cell_type": "code",
   "execution_count": 132,
   "metadata": {},
   "outputs": [],
   "source": [
    "greatest_increase = max(changes)\n",
    "greatest_decrease =min(changes)"
   ]
  },
  {
   "cell_type": "code",
   "execution_count": 133,
   "metadata": {},
   "outputs": [],
   "source": [
    "\n",
    "index_greatest_increase_month = changes.index(greatest_increase)\n",
    "index_greatest_decrease_month = changes.index(greatest_decrease)\n",
    "\n",
    "greatest_increase_month = date[index_greatest_increase_month+1]\n",
    "greatest_decrease_month = date[index_greatest_decrease_month+1]"
   ]
  },
  {
   "cell_type": "code",
   "execution_count": 134,
   "metadata": {},
   "outputs": [
    {
     "name": "stdout",
     "output_type": "stream",
     "text": [
      "Financial Analysis\n",
      "----------------------------\n",
      "Months: 86\n",
      "Total: $38382578\n",
      "Average Monthly Change: -2315.12\n",
      "Greatest Increase in Profits: Feb-2012 ($1926159)\n",
      "Greatest Decrease in Profits: Sep-2013 ($-2196167)\n"
     ]
    }
   ],
   "source": [
    "print(\"Financial Analysis\")\n",
    "print(\"----------------------------\")\n",
    "print(f\"Months: {len(date)}\")\n",
    "print(f\"Total: ${sum(net_total)}\")\n",
    "print(f\"Average Monthly Change: {average_change}\")\n",
    "print(f\"Greatest Increase in Profits: {greatest_increase_month} (${greatest_increase})\")\n",
    "print(f\"Greatest Decrease in Profits: {greatest_decrease_month} (${greatest_decrease})\")\n",
    " "
   ]
  },
  {
   "cell_type": "code",
   "execution_count": 136,
   "metadata": {},
   "outputs": [],
   "source": [
    "fin_an = open(\"Financial_Analysis.txt\",\"w\")\n",
    " \n",
    "fin_an.write(\"Financial Analysis:\\n\")\n",
    "fin_an.write(\"                   \\n\")\n",
    "fin_an.write(f\"Months: {len(date)}\\n\")\n",
    "fin_an.write(f\"Total: ${sum(net_total)}\\n\")\n",
    "fin_an.write(f\"Average Monthly Change: {average_change}\\n\")\n",
    "fin_an.write(f\"Greatest Increase in Profits: {greatest_increase_month} (${greatest_increase})\\n\")\n",
    "fin_an.write(f\"Greatest Decrease in Profits: {greatest_decrease_month} (${greatest_decrease})\\n\")\n",
    " \n",
    "  \n",
    "fin_an.close() "
   ]
  },
  {
   "cell_type": "code",
   "execution_count": null,
   "metadata": {},
   "outputs": [],
   "source": []
  }
 ],
 "metadata": {
  "kernelspec": {
   "display_name": "Python 3",
   "language": "python",
   "name": "python3"
  },
  "language_info": {
   "codemirror_mode": {
    "name": "ipython",
    "version": 3
   },
   "file_extension": ".py",
   "mimetype": "text/x-python",
   "name": "python",
   "nbconvert_exporter": "python",
   "pygments_lexer": "ipython3",
   "version": "3.8.5"
  }
 },
 "nbformat": 4,
 "nbformat_minor": 4
}
